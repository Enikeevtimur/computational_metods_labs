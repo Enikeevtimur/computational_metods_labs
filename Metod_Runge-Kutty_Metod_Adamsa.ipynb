{
 "cells": [
  {
   "cell_type": "markdown",
   "id": "54d4a2e2",
   "metadata": {},
   "source": [
    "Решить систему уравнений\n",
    "\n",
    "\\begin{cases}\n",
    "   x' = 2x - 5y + 3\\\\\n",
    "   y' = 5x - 6y + 1\n",
    " \\end{cases}\n",
    " \n",
    " $x(0) = 6 , y(0) = 5$\n",
    " "
   ]
  },
  {
   "cell_type": "code",
   "execution_count": 2,
   "id": "c5a12d1e",
   "metadata": {},
   "outputs": [],
   "source": [
    "import numpy as np\n",
    "import pandas as pd\n",
    "import matplotlib.pyplot as plt\n",
    "import math\n",
    "from math import exp\n",
    "import plotly\n",
    "import plotly.graph_objs as go\n",
    "import plotly.express as px\n",
    "from plotly.subplots import make_subplots\n"
   ]
  },
  {
   "cell_type": "code",
   "execution_count": 11,
   "id": "dedfc6ce",
   "metadata": {},
   "outputs": [],
   "source": [
    "def f(x,y):\n",
    "    return 2*x - 5*y + 3"
   ]
  },
  {
   "cell_type": "code",
   "execution_count": 12,
   "id": "a13219b6",
   "metadata": {},
   "outputs": [],
   "source": [
    "def g(x,y):\n",
    "    return 5*x - 6*y + 1"
   ]
  },
  {
   "cell_type": "code",
   "execution_count": 5,
   "id": "88d1d8e5",
   "metadata": {},
   "outputs": [],
   "source": [
    "from math import exp\n",
    "eps = 0.01"
   ]
  },
  {
   "cell_type": "code",
   "execution_count": 8,
   "id": "4de18fee",
   "metadata": {},
   "outputs": [],
   "source": [
    "def gr_x(t):\n",
    "      return 5 * exp(-2 * t) * math.cos(3 * t) + 1\n",
    "def gr_y(t):\n",
    "    return exp(-2 * t) * (4 * math.cos(3 * t) + 3 * math.sin(3 * t)) + 1"
   ]
  },
  {
   "cell_type": "code",
   "execution_count": 13,
   "id": "f6aa7864",
   "metadata": {},
   "outputs": [
    {
     "data": {
      "text/plain": [
       "[[6, 5, 8],\n",
       " [4.417759961127309, 4.671942246286269, 8],\n",
       " [2.8476913109427184, 3.7601333157226264, 8],\n",
       " [1.5951281659088197, 2.6989313934663395, 8],\n",
       " [0.7697518556085868, 1.763283004517923, 8],\n",
       " [0.3490101452386922, 1.083678681344992, 8],\n",
       " [0.24010749418441313, 0.6831819541923869, 8],\n",
       " [0.3289235978742756, 0.5196026509304394, 8]]"
      ]
     },
     "execution_count": 13,
     "metadata": {},
     "output_type": "execute_result"
    }
   ],
   "source": [
    "def rg(ans1,ans2): \n",
    "    h = 2\n",
    "    a = []\n",
    "    j = 0\n",
    "    df = pd.DataFrame({'ans0' : [], 'ans1' : [], 'p0': [], 'p1': [], 'eps0': [], 'eps1': [],'p2': [], 'p3': [],'p4': [] })\n",
    "    while True:\n",
    "        ans = [[6, 5, h]]\n",
    "        grid = np.linspace(0, 1, h)\n",
    "        h1 = 1 / (h-1)\n",
    "        for i in range(1, h):\n",
    "            prev0 = ans[i-1][0]\n",
    "            prev1 = ans[i-1][1]\n",
    "            k1 = np.array([f(prev0, prev1), g(prev0, prev1)])\n",
    "            k2 = np.array([f(prev0 + h1 *k1[0] / 2, prev1 + h1 * k1[1] / 2), g(prev0 + h1 *k1[0] / 2, prev1 + h1 * k1[1] / 2) ])\n",
    "            k3 = np.array([f(prev0 + h1 * k2[0] / 2, prev1 + h1 * k2[1] / 2), g(prev0 + h1 * k2[0] / 2, prev1 + h1 * k2[1] / 2)])\n",
    "            k4 = np.array([f(prev0 + h1 * k3[0], prev1 + h1 * k3[1]), g(prev0 + h1 * k3[0], prev1 + h1 * k3[1])])\n",
    "            ans.append([prev0 + h1/6 * (k1[0] + 2 * k2[0] + 2 * k3[0] + k4[0]), prev1 + h1/6 * (k1[1] + 2 * k2[1] + 2 * k3[1] + k4[1]) , h])\n",
    "\n",
    "        if(h == 2):\n",
    "            a.append([ans[h - 1][0], ans[h - 1][1], 0, 0,  abs(ans[h - 1][0] - ans1(grid[h - 1])), abs(ans[h - 1][1] - ans2(grid[h - 1])), 0, 0, 0])\n",
    "        else:\n",
    "            a.append([ans[h - 1][0], ans[h - 1][1], ans[h - 1][0] / a[j - 1][0], ans[h - 1][1] / a[j - 1][1],  abs(ans[h - 1][0] - ans1(grid[h - 1])), abs(ans[h - 1][1] - ans2(grid[h - 1])), math.log2(abs(ans[h - 1][0] - ans1(grid[h - 1]))/(a[j - 1][5])), math.log2(abs(ans[h - 1][1] - ans2(grid[h - 1]))/(a[j - 1][5])), max(math.log2(abs(ans[h - 1][0] - ans1(grid[h - 1]))/(a[j - 1][5])), math.log2(abs(ans[h - 1][1] - ans2(grid[h - 1]))/(a[j - 1][5])))])\n",
    "        if abs(ans[h - 1][0] - ans1(grid[h - 1])) < eps and abs(ans[h - 1][1] - ans2(grid[h - 1])) < eps:\n",
    "            df = pd.DataFrame({'ans0' : [], 'ans1' : [], 'p0': [], 'p1': [], 'eps0': [], 'eps1': [],'p2': [], 'p3': [],'p4': [] })\n",
    "            for i in a:\n",
    "                df.loc[len(df.index)] = i\n",
    "            return ans,df\n",
    "        \n",
    "        j += 1    \n",
    "        h *= 2\n",
    "rg(gr_x,gr_y)[0]"
   ]
  },
  {
   "cell_type": "code",
   "execution_count": 14,
   "id": "b81bbac8",
   "metadata": {},
   "outputs": [
    {
     "data": {
      "text/html": [
       "<div>\n",
       "<style scoped>\n",
       "    .dataframe tbody tr th:only-of-type {\n",
       "        vertical-align: middle;\n",
       "    }\n",
       "\n",
       "    .dataframe tbody tr th {\n",
       "        vertical-align: top;\n",
       "    }\n",
       "\n",
       "    .dataframe thead th {\n",
       "        text-align: right;\n",
       "    }\n",
       "</style>\n",
       "<table border=\"1\" class=\"dataframe\">\n",
       "  <thead>\n",
       "    <tr style=\"text-align: right;\">\n",
       "      <th></th>\n",
       "      <th>ans0</th>\n",
       "      <th>ans1</th>\n",
       "      <th>p0</th>\n",
       "      <th>p1</th>\n",
       "      <th>eps0</th>\n",
       "      <th>eps1</th>\n",
       "      <th>p2</th>\n",
       "      <th>p3</th>\n",
       "      <th>p4</th>\n",
       "    </tr>\n",
       "  </thead>\n",
       "  <tbody>\n",
       "    <tr>\n",
       "      <th>0</th>\n",
       "      <td>-2.958333</td>\n",
       "      <td>8.333333</td>\n",
       "      <td>0.000000</td>\n",
       "      <td>0.000000</td>\n",
       "      <td>3.288429</td>\n",
       "      <td>7.811961</td>\n",
       "      <td>0.000000</td>\n",
       "      <td>0.000000</td>\n",
       "      <td>0.000000</td>\n",
       "    </tr>\n",
       "    <tr>\n",
       "      <th>1</th>\n",
       "      <td>0.260131</td>\n",
       "      <td>0.447692</td>\n",
       "      <td>-0.087931</td>\n",
       "      <td>0.053723</td>\n",
       "      <td>0.069965</td>\n",
       "      <td>0.073680</td>\n",
       "      <td>-6.802912</td>\n",
       "      <td>-6.728264</td>\n",
       "      <td>-6.728264</td>\n",
       "    </tr>\n",
       "    <tr>\n",
       "      <th>2</th>\n",
       "      <td>0.328924</td>\n",
       "      <td>0.519603</td>\n",
       "      <td>1.264455</td>\n",
       "      <td>1.160626</td>\n",
       "      <td>0.001172</td>\n",
       "      <td>0.001769</td>\n",
       "      <td>-5.974445</td>\n",
       "      <td>-5.380077</td>\n",
       "      <td>-5.380077</td>\n",
       "    </tr>\n",
       "  </tbody>\n",
       "</table>\n",
       "</div>"
      ],
      "text/plain": [
       "       ans0      ans1        p0        p1      eps0      eps1        p2  \\\n",
       "0 -2.958333  8.333333  0.000000  0.000000  3.288429  7.811961  0.000000   \n",
       "1  0.260131  0.447692 -0.087931  0.053723  0.069965  0.073680 -6.802912   \n",
       "2  0.328924  0.519603  1.264455  1.160626  0.001172  0.001769 -5.974445   \n",
       "\n",
       "         p3        p4  \n",
       "0  0.000000  0.000000  \n",
       "1 -6.728264 -6.728264  \n",
       "2 -5.380077 -5.380077  "
      ]
     },
     "execution_count": 14,
     "metadata": {},
     "output_type": "execute_result"
    }
   ],
   "source": [
    "rg(gr_x,gr_y)[1]"
   ]
  },
  {
   "cell_type": "code",
   "execution_count": 15,
   "id": "8d332cc9",
   "metadata": {},
   "outputs": [
    {
     "data": {
      "application/vnd.plotly.v1+json": {
       "config": {
        "plotlyServerURL": "https://plot.ly"
       },
       "data": [
        {
         "type": "scatter",
         "x": [
          0,
          0.14285714285714285,
          0.2857142857142857,
          0.42857142857142855,
          0.5714285714285714,
          0.7142857142857142,
          0.8571428571428571,
          1
         ],
         "y": [
          5,
          4.6709342418641935,
          3.759397046745423,
          2.6991296643230966,
          1.7644761420138029,
          1.0855309034080103,
          0.6852096001982075,
          0.5213718890652351
         ]
        },
        {
         "type": "scatter",
         "x": [
          0,
          0.14285714285714285,
          0.2857142857142857,
          0.42857142857142855,
          0.5714285714285714,
          0.7142857142857142,
          0.8571428571428571,
          1
         ],
         "y": [
          6,
          4.41756975482354,
          2.848322601595056,
          1.5967449943727408,
          0.7719857892069932,
          0.3513054992698398,
          0.2419802745838069,
          0.33009542535228686
         ]
        },
        {
         "type": "scatter",
         "x": [
          0,
          0.14285714285714285,
          0.2857142857142857,
          0.42857142857142855,
          0.5714285714285714,
          0.7142857142857142,
          0.8571428571428571,
          1
         ],
         "y": [
          5,
          4.671942246286269,
          3.7601333157226264,
          2.6989313934663395,
          1.763283004517923,
          1.083678681344992,
          0.6831819541923869,
          0.5196026509304394
         ]
        },
        {
         "type": "scatter",
         "x": [
          0,
          0.14285714285714285,
          0.2857142857142857,
          0.42857142857142855,
          0.5714285714285714,
          0.7142857142857142,
          0.8571428571428571,
          1
         ],
         "y": [
          6,
          4.417759961127309,
          2.8476913109427184,
          1.5951281659088197,
          0.7697518556085868,
          0.3490101452386922,
          0.24010749418441313,
          0.3289235978742756
         ]
        }
       ],
       "layout": {
        "template": {
         "data": {
          "bar": [
           {
            "error_x": {
             "color": "#2a3f5f"
            },
            "error_y": {
             "color": "#2a3f5f"
            },
            "marker": {
             "line": {
              "color": "#E5ECF6",
              "width": 0.5
             },
             "pattern": {
              "fillmode": "overlay",
              "size": 10,
              "solidity": 0.2
             }
            },
            "type": "bar"
           }
          ],
          "barpolar": [
           {
            "marker": {
             "line": {
              "color": "#E5ECF6",
              "width": 0.5
             },
             "pattern": {
              "fillmode": "overlay",
              "size": 10,
              "solidity": 0.2
             }
            },
            "type": "barpolar"
           }
          ],
          "carpet": [
           {
            "aaxis": {
             "endlinecolor": "#2a3f5f",
             "gridcolor": "white",
             "linecolor": "white",
             "minorgridcolor": "white",
             "startlinecolor": "#2a3f5f"
            },
            "baxis": {
             "endlinecolor": "#2a3f5f",
             "gridcolor": "white",
             "linecolor": "white",
             "minorgridcolor": "white",
             "startlinecolor": "#2a3f5f"
            },
            "type": "carpet"
           }
          ],
          "choropleth": [
           {
            "colorbar": {
             "outlinewidth": 0,
             "ticks": ""
            },
            "type": "choropleth"
           }
          ],
          "contour": [
           {
            "colorbar": {
             "outlinewidth": 0,
             "ticks": ""
            },
            "colorscale": [
             [
              0,
              "#0d0887"
             ],
             [
              0.1111111111111111,
              "#46039f"
             ],
             [
              0.2222222222222222,
              "#7201a8"
             ],
             [
              0.3333333333333333,
              "#9c179e"
             ],
             [
              0.4444444444444444,
              "#bd3786"
             ],
             [
              0.5555555555555556,
              "#d8576b"
             ],
             [
              0.6666666666666666,
              "#ed7953"
             ],
             [
              0.7777777777777778,
              "#fb9f3a"
             ],
             [
              0.8888888888888888,
              "#fdca26"
             ],
             [
              1,
              "#f0f921"
             ]
            ],
            "type": "contour"
           }
          ],
          "contourcarpet": [
           {
            "colorbar": {
             "outlinewidth": 0,
             "ticks": ""
            },
            "type": "contourcarpet"
           }
          ],
          "heatmap": [
           {
            "colorbar": {
             "outlinewidth": 0,
             "ticks": ""
            },
            "colorscale": [
             [
              0,
              "#0d0887"
             ],
             [
              0.1111111111111111,
              "#46039f"
             ],
             [
              0.2222222222222222,
              "#7201a8"
             ],
             [
              0.3333333333333333,
              "#9c179e"
             ],
             [
              0.4444444444444444,
              "#bd3786"
             ],
             [
              0.5555555555555556,
              "#d8576b"
             ],
             [
              0.6666666666666666,
              "#ed7953"
             ],
             [
              0.7777777777777778,
              "#fb9f3a"
             ],
             [
              0.8888888888888888,
              "#fdca26"
             ],
             [
              1,
              "#f0f921"
             ]
            ],
            "type": "heatmap"
           }
          ],
          "heatmapgl": [
           {
            "colorbar": {
             "outlinewidth": 0,
             "ticks": ""
            },
            "colorscale": [
             [
              0,
              "#0d0887"
             ],
             [
              0.1111111111111111,
              "#46039f"
             ],
             [
              0.2222222222222222,
              "#7201a8"
             ],
             [
              0.3333333333333333,
              "#9c179e"
             ],
             [
              0.4444444444444444,
              "#bd3786"
             ],
             [
              0.5555555555555556,
              "#d8576b"
             ],
             [
              0.6666666666666666,
              "#ed7953"
             ],
             [
              0.7777777777777778,
              "#fb9f3a"
             ],
             [
              0.8888888888888888,
              "#fdca26"
             ],
             [
              1,
              "#f0f921"
             ]
            ],
            "type": "heatmapgl"
           }
          ],
          "histogram": [
           {
            "marker": {
             "pattern": {
              "fillmode": "overlay",
              "size": 10,
              "solidity": 0.2
             }
            },
            "type": "histogram"
           }
          ],
          "histogram2d": [
           {
            "colorbar": {
             "outlinewidth": 0,
             "ticks": ""
            },
            "colorscale": [
             [
              0,
              "#0d0887"
             ],
             [
              0.1111111111111111,
              "#46039f"
             ],
             [
              0.2222222222222222,
              "#7201a8"
             ],
             [
              0.3333333333333333,
              "#9c179e"
             ],
             [
              0.4444444444444444,
              "#bd3786"
             ],
             [
              0.5555555555555556,
              "#d8576b"
             ],
             [
              0.6666666666666666,
              "#ed7953"
             ],
             [
              0.7777777777777778,
              "#fb9f3a"
             ],
             [
              0.8888888888888888,
              "#fdca26"
             ],
             [
              1,
              "#f0f921"
             ]
            ],
            "type": "histogram2d"
           }
          ],
          "histogram2dcontour": [
           {
            "colorbar": {
             "outlinewidth": 0,
             "ticks": ""
            },
            "colorscale": [
             [
              0,
              "#0d0887"
             ],
             [
              0.1111111111111111,
              "#46039f"
             ],
             [
              0.2222222222222222,
              "#7201a8"
             ],
             [
              0.3333333333333333,
              "#9c179e"
             ],
             [
              0.4444444444444444,
              "#bd3786"
             ],
             [
              0.5555555555555556,
              "#d8576b"
             ],
             [
              0.6666666666666666,
              "#ed7953"
             ],
             [
              0.7777777777777778,
              "#fb9f3a"
             ],
             [
              0.8888888888888888,
              "#fdca26"
             ],
             [
              1,
              "#f0f921"
             ]
            ],
            "type": "histogram2dcontour"
           }
          ],
          "mesh3d": [
           {
            "colorbar": {
             "outlinewidth": 0,
             "ticks": ""
            },
            "type": "mesh3d"
           }
          ],
          "parcoords": [
           {
            "line": {
             "colorbar": {
              "outlinewidth": 0,
              "ticks": ""
             }
            },
            "type": "parcoords"
           }
          ],
          "pie": [
           {
            "automargin": true,
            "type": "pie"
           }
          ],
          "scatter": [
           {
            "fillpattern": {
             "fillmode": "overlay",
             "size": 10,
             "solidity": 0.2
            },
            "type": "scatter"
           }
          ],
          "scatter3d": [
           {
            "line": {
             "colorbar": {
              "outlinewidth": 0,
              "ticks": ""
             }
            },
            "marker": {
             "colorbar": {
              "outlinewidth": 0,
              "ticks": ""
             }
            },
            "type": "scatter3d"
           }
          ],
          "scattercarpet": [
           {
            "marker": {
             "colorbar": {
              "outlinewidth": 0,
              "ticks": ""
             }
            },
            "type": "scattercarpet"
           }
          ],
          "scattergeo": [
           {
            "marker": {
             "colorbar": {
              "outlinewidth": 0,
              "ticks": ""
             }
            },
            "type": "scattergeo"
           }
          ],
          "scattergl": [
           {
            "marker": {
             "colorbar": {
              "outlinewidth": 0,
              "ticks": ""
             }
            },
            "type": "scattergl"
           }
          ],
          "scattermapbox": [
           {
            "marker": {
             "colorbar": {
              "outlinewidth": 0,
              "ticks": ""
             }
            },
            "type": "scattermapbox"
           }
          ],
          "scatterpolar": [
           {
            "marker": {
             "colorbar": {
              "outlinewidth": 0,
              "ticks": ""
             }
            },
            "type": "scatterpolar"
           }
          ],
          "scatterpolargl": [
           {
            "marker": {
             "colorbar": {
              "outlinewidth": 0,
              "ticks": ""
             }
            },
            "type": "scatterpolargl"
           }
          ],
          "scatterternary": [
           {
            "marker": {
             "colorbar": {
              "outlinewidth": 0,
              "ticks": ""
             }
            },
            "type": "scatterternary"
           }
          ],
          "surface": [
           {
            "colorbar": {
             "outlinewidth": 0,
             "ticks": ""
            },
            "colorscale": [
             [
              0,
              "#0d0887"
             ],
             [
              0.1111111111111111,
              "#46039f"
             ],
             [
              0.2222222222222222,
              "#7201a8"
             ],
             [
              0.3333333333333333,
              "#9c179e"
             ],
             [
              0.4444444444444444,
              "#bd3786"
             ],
             [
              0.5555555555555556,
              "#d8576b"
             ],
             [
              0.6666666666666666,
              "#ed7953"
             ],
             [
              0.7777777777777778,
              "#fb9f3a"
             ],
             [
              0.8888888888888888,
              "#fdca26"
             ],
             [
              1,
              "#f0f921"
             ]
            ],
            "type": "surface"
           }
          ],
          "table": [
           {
            "cells": {
             "fill": {
              "color": "#EBF0F8"
             },
             "line": {
              "color": "white"
             }
            },
            "header": {
             "fill": {
              "color": "#C8D4E3"
             },
             "line": {
              "color": "white"
             }
            },
            "type": "table"
           }
          ]
         },
         "layout": {
          "annotationdefaults": {
           "arrowcolor": "#2a3f5f",
           "arrowhead": 0,
           "arrowwidth": 1
          },
          "autotypenumbers": "strict",
          "coloraxis": {
           "colorbar": {
            "outlinewidth": 0,
            "ticks": ""
           }
          },
          "colorscale": {
           "diverging": [
            [
             0,
             "#8e0152"
            ],
            [
             0.1,
             "#c51b7d"
            ],
            [
             0.2,
             "#de77ae"
            ],
            [
             0.3,
             "#f1b6da"
            ],
            [
             0.4,
             "#fde0ef"
            ],
            [
             0.5,
             "#f7f7f7"
            ],
            [
             0.6,
             "#e6f5d0"
            ],
            [
             0.7,
             "#b8e186"
            ],
            [
             0.8,
             "#7fbc41"
            ],
            [
             0.9,
             "#4d9221"
            ],
            [
             1,
             "#276419"
            ]
           ],
           "sequential": [
            [
             0,
             "#0d0887"
            ],
            [
             0.1111111111111111,
             "#46039f"
            ],
            [
             0.2222222222222222,
             "#7201a8"
            ],
            [
             0.3333333333333333,
             "#9c179e"
            ],
            [
             0.4444444444444444,
             "#bd3786"
            ],
            [
             0.5555555555555556,
             "#d8576b"
            ],
            [
             0.6666666666666666,
             "#ed7953"
            ],
            [
             0.7777777777777778,
             "#fb9f3a"
            ],
            [
             0.8888888888888888,
             "#fdca26"
            ],
            [
             1,
             "#f0f921"
            ]
           ],
           "sequentialminus": [
            [
             0,
             "#0d0887"
            ],
            [
             0.1111111111111111,
             "#46039f"
            ],
            [
             0.2222222222222222,
             "#7201a8"
            ],
            [
             0.3333333333333333,
             "#9c179e"
            ],
            [
             0.4444444444444444,
             "#bd3786"
            ],
            [
             0.5555555555555556,
             "#d8576b"
            ],
            [
             0.6666666666666666,
             "#ed7953"
            ],
            [
             0.7777777777777778,
             "#fb9f3a"
            ],
            [
             0.8888888888888888,
             "#fdca26"
            ],
            [
             1,
             "#f0f921"
            ]
           ]
          },
          "colorway": [
           "#636efa",
           "#EF553B",
           "#00cc96",
           "#ab63fa",
           "#FFA15A",
           "#19d3f3",
           "#FF6692",
           "#B6E880",
           "#FF97FF",
           "#FECB52"
          ],
          "font": {
           "color": "#2a3f5f"
          },
          "geo": {
           "bgcolor": "white",
           "lakecolor": "white",
           "landcolor": "#E5ECF6",
           "showlakes": true,
           "showland": true,
           "subunitcolor": "white"
          },
          "hoverlabel": {
           "align": "left"
          },
          "hovermode": "closest",
          "mapbox": {
           "style": "light"
          },
          "paper_bgcolor": "white",
          "plot_bgcolor": "#E5ECF6",
          "polar": {
           "angularaxis": {
            "gridcolor": "white",
            "linecolor": "white",
            "ticks": ""
           },
           "bgcolor": "#E5ECF6",
           "radialaxis": {
            "gridcolor": "white",
            "linecolor": "white",
            "ticks": ""
           }
          },
          "scene": {
           "xaxis": {
            "backgroundcolor": "#E5ECF6",
            "gridcolor": "white",
            "gridwidth": 2,
            "linecolor": "white",
            "showbackground": true,
            "ticks": "",
            "zerolinecolor": "white"
           },
           "yaxis": {
            "backgroundcolor": "#E5ECF6",
            "gridcolor": "white",
            "gridwidth": 2,
            "linecolor": "white",
            "showbackground": true,
            "ticks": "",
            "zerolinecolor": "white"
           },
           "zaxis": {
            "backgroundcolor": "#E5ECF6",
            "gridcolor": "white",
            "gridwidth": 2,
            "linecolor": "white",
            "showbackground": true,
            "ticks": "",
            "zerolinecolor": "white"
           }
          },
          "shapedefaults": {
           "line": {
            "color": "#2a3f5f"
           }
          },
          "ternary": {
           "aaxis": {
            "gridcolor": "white",
            "linecolor": "white",
            "ticks": ""
           },
           "baxis": {
            "gridcolor": "white",
            "linecolor": "white",
            "ticks": ""
           },
           "bgcolor": "#E5ECF6",
           "caxis": {
            "gridcolor": "white",
            "linecolor": "white",
            "ticks": ""
           }
          },
          "title": {
           "x": 0.05
          },
          "xaxis": {
           "automargin": true,
           "gridcolor": "white",
           "linecolor": "white",
           "ticks": "",
           "title": {
            "standoff": 15
           },
           "zerolinecolor": "white",
           "zerolinewidth": 2
          },
          "yaxis": {
           "automargin": true,
           "gridcolor": "white",
           "linecolor": "white",
           "ticks": "",
           "title": {
            "standoff": 15
           },
           "zerolinecolor": "white",
           "zerolinewidth": 2
          }
         }
        }
       }
      }
     },
     "metadata": {},
     "output_type": "display_data"
    }
   ],
   "source": [
    "grid = np.linspace(0, 1, rg(gr_x,gr_y)[0][0][2])\n",
    "\n",
    "new = []\n",
    "new1 = []\n",
    "answ = []\n",
    "answ1 = []\n",
    "for i in range(len(rg(gr_x,gr_y)[0])): \n",
    "    new.append(rg(gr_x,gr_y)[0][i][1])\n",
    "    new1.append(rg(gr_x,gr_y)[0][i][0])\n",
    "    answ.append(gr_x(grid[i]))\n",
    "    answ1.append(gr_y(grid[i]))\n",
    "fig = go.Figure()\n",
    "fig.add_trace(go.Scatter(x=grid, y=answ1))\n",
    "fig.add_trace(go.Scatter(x=grid, y=answ))\n",
    "fig.add_trace(go.Scatter(x=grid, y=new))\n",
    "fig.add_trace(go.Scatter(x=grid, y=new1))\n",
    "fig.show()"
   ]
  },
  {
   "cell_type": "code",
   "execution_count": 16,
   "id": "b1c80de1",
   "metadata": {},
   "outputs": [
    {
     "data": {
      "text/plain": [
       "[[6, 5, 16],\n",
       " [5.2886460905349795, 4.952546502057613, 16],\n",
       " [4.527331796579112, 4.716699385990618, 16],\n",
       " [3.766177820964494, 4.348459635675158, 16],\n",
       " [3.0435284354831094, 3.897278870689494],\n",
       " [2.3869407298389542, 3.405509061824123],\n",
       " [1.814083240702871, 2.9074676984467445],\n",
       " [1.3342640364487157, 2.4297627784247453],\n",
       " [0.9499174747913733, 1.9917429859610558],\n",
       " [0.6580885827768226, 1.6062244571272786],\n",
       " [0.45184486700141335, 1.2803727268067435],\n",
       " [0.3215572047788277, 1.01666404289181],\n",
       " [0.2560173614924888, 0.8138583822838343],\n",
       " [0.24337339094169522, 0.6679321353660788],\n",
       " [0.2718785560787981, 0.5729329357737072],\n",
       " [0.33045957847141477, 0.5217316821837031]]"
      ]
     },
     "execution_count": 16,
     "metadata": {},
     "output_type": "execute_result"
    }
   ],
   "source": [
    "def adams(ans1,ans2):\n",
    "    h = 8\n",
    "    a = []\n",
    "    j = 0\n",
    "    df = pd.DataFrame({'ans0' : [], 'ans1' : [], 'p0': [], 'p1': [], 'eps0': [], 'eps1': [],'p2': [], 'p3': [],'p4': [] })\n",
    "    while True:\n",
    "        ans = [[6, 5, h]]\n",
    "        grid = np.linspace(0, 1, h)\n",
    "        h1 = 1 / (h-1)\n",
    "        for i in range(1, 4):\n",
    "            prev0 = ans[i - 1][0]\n",
    "            prev1 = ans[i - 1][1]\n",
    "            k1 = np.array([f(prev0, prev1), g(prev0, prev1)])\n",
    "            k2 = np.array([f(prev0 + h1 *k1[0] / 2, prev1 + h1 * k1[1] / 2), g(prev0 + h1 *k1[0] / 2, prev1 + h1 * k1[1] / 2) ])\n",
    "            k3 = np.array([f(prev0 + h1 * k2[0] / 2, prev1 + h1 * k2[1] / 2), g(prev0 + h1 * k2[0] / 2, prev1 + h1 * k2[1] / 2)])\n",
    "            k4 = np.array([f(prev0 + h1 * k3[0], prev1 + h1 * k3[1]), g(prev0 + h1 * k3[0], prev1 + h1 * k3[1])])\n",
    "            ans.append([prev0 + h1/6 * (k1[0] + 2 * k2[0] + 2 * k3[0] + k4[0]), prev1 + h1/6 * (k1[1] + 2 * k2[1] + 2 * k3[1] + k4[1]) , h])\n",
    "           \n",
    "        for i in range(4, h):\n",
    "            prev0 = ans[i - 1][0]\n",
    "            prev1 = ans[i - 1][1]\n",
    "            z = np.array([prev0 + h1/24 * (55 * f(prev0, prev1) - 59 * f(ans[i - 2][0], ans[i-2][1]) + 37 * f(ans[i-3][0], ans[i-3][1]) - 9 * f(ans[i-4][0],ans[i-4][1])),prev1 + h1/24 * (55 * g(prev0, prev1) - 59 * g(ans[i-2][0], ans[i - 2][1]) + 37 * g(ans[i-3][0], ans[i-3][1]) - 9 * g(ans[i-4][0], ans[i - 4][1]))])\n",
    "            y = np.array([prev0 + h1/24 * (9 * f(z[0], z[1]) + 19 * f(prev0, prev1) - 5 * f(ans[i-2][0], ans[i-2][1]) + f(ans[i - 3][0], ans[i-3][1])),prev1 + h1/24 * (9 * g(z[0], z[1]) + 19 * g(prev0, prev1) - 5 * g(ans[i-2][0], ans[i-2][1]) + g(ans[i-3][0], ans[i - 3][1]))])\n",
    "            ans.append(list(y))\n",
    "        if h == 8:\n",
    "            a.append([max(abs(ans[h-1][0] - ans1(grid[h-1])), abs(ans[h-1][1] - ans2(grid[h - 1]))), 'null'])\n",
    "        else:\n",
    "            a.append([max(abs(ans[h-1][0] - ans1(grid[h-1])), abs(ans[h-1][1] - ans2(grid[h - 1]))), math.log2(max(abs(ans[h-1][0] - ans1(grid[h-1])), abs(ans[h-1][1] - ans2(grid[h - 1]))/a[j-1][0]))])\n",
    "        if max(abs(ans[h-1][0] - ans1(grid[h-1])), abs(ans[h-1][1] - ans2(grid[h - 1]))) < eps:\n",
    "            return ans,a\n",
    "        j += 1    \n",
    "        h *= 2\n",
    "adams(gr_x,gr_y)[0]"
   ]
  },
  {
   "cell_type": "code",
   "execution_count": null,
   "id": "91de934d",
   "metadata": {},
   "outputs": [
    {
     "data": {
      "application/vnd.plotly.v1+json": {
       "config": {
        "plotlyServerURL": "https://plot.ly"
       },
       "data": [
        {
         "type": "scatter",
         "x": [
          0,
          0.06666666666666667,
          0.13333333333333333,
          0.2,
          0.26666666666666666,
          0.3333333333333333,
          0.4,
          0.4666666666666667,
          0.5333333333333333,
          0.6,
          0.6666666666666666,
          0.7333333333333333,
          0.8,
          0.8666666666666667,
          0.9333333333333333,
          1
         ],
         "y": [
          5,
          4.952522772121396,
          4.716666498236028,
          4.348429535803945,
          3.8973841448892563,
          3.4056786394507106,
          2.9076478088786324,
          2.4299088937935505,
          1.9918246175137169,
          1.606223985691226,
          1.280284137622773,
          1.0164910427155578,
          0.813612098324942,
          0.6676287541359276,
          0.5725914482318709,
          0.5213718890652351
         ]
        },
        {
         "type": "scatter",
         "x": [
          0,
          0.06666666666666667,
          0.13333333333333333,
          0.2,
          0.26666666666666666,
          0.3333333333333333,
          0.4,
          0.4666666666666667,
          0.5333333333333333,
          0.6,
          0.6666666666666666,
          0.7333333333333333,
          0.8,
          0.8666666666666667,
          0.9333333333333333,
          1
         ],
         "y": [
          6,
          5.288640599061913,
          4.527333583345607,
          3.766195036905541,
          3.0436017857289457,
          2.387002266427433,
          1.814089172294231,
          1.3341900089903342,
          0.9497543691267519,
          0.6578402207205709,
          0.4515244242513007,
          0.3211840224988166,
          0.2556138822054054,
          0.24296258324206366,
          0.27148186209730985,
          0.33009542535228686
         ]
        },
        {
         "type": "scatter",
         "x": [
          0,
          0.06666666666666667,
          0.13333333333333333,
          0.2,
          0.26666666666666666,
          0.3333333333333333,
          0.4,
          0.4666666666666667,
          0.5333333333333333,
          0.6,
          0.6666666666666666,
          0.7333333333333333,
          0.8,
          0.8666666666666667,
          0.9333333333333333,
          1
         ],
         "y": [
          5,
          4.952546502057613,
          4.716699385990618,
          4.348459635675158,
          3.897278870689494,
          3.405509061824123,
          2.9074676984467445,
          2.4297627784247453,
          1.9917429859610558,
          1.6062244571272786,
          1.2803727268067435,
          1.01666404289181,
          0.8138583822838343,
          0.6679321353660788,
          0.5729329357737072,
          0.5217316821837031
         ]
        },
        {
         "type": "scatter",
         "x": [
          0,
          0.06666666666666667,
          0.13333333333333333,
          0.2,
          0.26666666666666666,
          0.3333333333333333,
          0.4,
          0.4666666666666667,
          0.5333333333333333,
          0.6,
          0.6666666666666666,
          0.7333333333333333,
          0.8,
          0.8666666666666667,
          0.9333333333333333,
          1
         ],
         "y": [
          6,
          5.2886460905349795,
          4.527331796579112,
          3.766177820964494,
          3.0435284354831094,
          2.3869407298389542,
          1.814083240702871,
          1.3342640364487157,
          0.9499174747913733,
          0.6580885827768226,
          0.45184486700141335,
          0.3215572047788277,
          0.2560173614924888,
          0.24337339094169522,
          0.2718785560787981,
          0.33045957847141477
         ]
        }
       ],
       "layout": {
        "template": {
         "data": {
          "bar": [
           {
            "error_x": {
             "color": "#2a3f5f"
            },
            "error_y": {
             "color": "#2a3f5f"
            },
            "marker": {
             "line": {
              "color": "#E5ECF6",
              "width": 0.5
             },
             "pattern": {
              "fillmode": "overlay",
              "size": 10,
              "solidity": 0.2
             }
            },
            "type": "bar"
           }
          ],
          "barpolar": [
           {
            "marker": {
             "line": {
              "color": "#E5ECF6",
              "width": 0.5
             },
             "pattern": {
              "fillmode": "overlay",
              "size": 10,
              "solidity": 0.2
             }
            },
            "type": "barpolar"
           }
          ],
          "carpet": [
           {
            "aaxis": {
             "endlinecolor": "#2a3f5f",
             "gridcolor": "white",
             "linecolor": "white",
             "minorgridcolor": "white",
             "startlinecolor": "#2a3f5f"
            },
            "baxis": {
             "endlinecolor": "#2a3f5f",
             "gridcolor": "white",
             "linecolor": "white",
             "minorgridcolor": "white",
             "startlinecolor": "#2a3f5f"
            },
            "type": "carpet"
           }
          ],
          "choropleth": [
           {
            "colorbar": {
             "outlinewidth": 0,
             "ticks": ""
            },
            "type": "choropleth"
           }
          ],
          "contour": [
           {
            "colorbar": {
             "outlinewidth": 0,
             "ticks": ""
            },
            "colorscale": [
             [
              0,
              "#0d0887"
             ],
             [
              0.1111111111111111,
              "#46039f"
             ],
             [
              0.2222222222222222,
              "#7201a8"
             ],
             [
              0.3333333333333333,
              "#9c179e"
             ],
             [
              0.4444444444444444,
              "#bd3786"
             ],
             [
              0.5555555555555556,
              "#d8576b"
             ],
             [
              0.6666666666666666,
              "#ed7953"
             ],
             [
              0.7777777777777778,
              "#fb9f3a"
             ],
             [
              0.8888888888888888,
              "#fdca26"
             ],
             [
              1,
              "#f0f921"
             ]
            ],
            "type": "contour"
           }
          ],
          "contourcarpet": [
           {
            "colorbar": {
             "outlinewidth": 0,
             "ticks": ""
            },
            "type": "contourcarpet"
           }
          ],
          "heatmap": [
           {
            "colorbar": {
             "outlinewidth": 0,
             "ticks": ""
            },
            "colorscale": [
             [
              0,
              "#0d0887"
             ],
             [
              0.1111111111111111,
              "#46039f"
             ],
             [
              0.2222222222222222,
              "#7201a8"
             ],
             [
              0.3333333333333333,
              "#9c179e"
             ],
             [
              0.4444444444444444,
              "#bd3786"
             ],
             [
              0.5555555555555556,
              "#d8576b"
             ],
             [
              0.6666666666666666,
              "#ed7953"
             ],
             [
              0.7777777777777778,
              "#fb9f3a"
             ],
             [
              0.8888888888888888,
              "#fdca26"
             ],
             [
              1,
              "#f0f921"
             ]
            ],
            "type": "heatmap"
           }
          ],
          "heatmapgl": [
           {
            "colorbar": {
             "outlinewidth": 0,
             "ticks": ""
            },
            "colorscale": [
             [
              0,
              "#0d0887"
             ],
             [
              0.1111111111111111,
              "#46039f"
             ],
             [
              0.2222222222222222,
              "#7201a8"
             ],
             [
              0.3333333333333333,
              "#9c179e"
             ],
             [
              0.4444444444444444,
              "#bd3786"
             ],
             [
              0.5555555555555556,
              "#d8576b"
             ],
             [
              0.6666666666666666,
              "#ed7953"
             ],
             [
              0.7777777777777778,
              "#fb9f3a"
             ],
             [
              0.8888888888888888,
              "#fdca26"
             ],
             [
              1,
              "#f0f921"
             ]
            ],
            "type": "heatmapgl"
           }
          ],
          "histogram": [
           {
            "marker": {
             "pattern": {
              "fillmode": "overlay",
              "size": 10,
              "solidity": 0.2
             }
            },
            "type": "histogram"
           }
          ],
          "histogram2d": [
           {
            "colorbar": {
             "outlinewidth": 0,
             "ticks": ""
            },
            "colorscale": [
             [
              0,
              "#0d0887"
             ],
             [
              0.1111111111111111,
              "#46039f"
             ],
             [
              0.2222222222222222,
              "#7201a8"
             ],
             [
              0.3333333333333333,
              "#9c179e"
             ],
             [
              0.4444444444444444,
              "#bd3786"
             ],
             [
              0.5555555555555556,
              "#d8576b"
             ],
             [
              0.6666666666666666,
              "#ed7953"
             ],
             [
              0.7777777777777778,
              "#fb9f3a"
             ],
             [
              0.8888888888888888,
              "#fdca26"
             ],
             [
              1,
              "#f0f921"
             ]
            ],
            "type": "histogram2d"
           }
          ],
          "histogram2dcontour": [
           {
            "colorbar": {
             "outlinewidth": 0,
             "ticks": ""
            },
            "colorscale": [
             [
              0,
              "#0d0887"
             ],
             [
              0.1111111111111111,
              "#46039f"
             ],
             [
              0.2222222222222222,
              "#7201a8"
             ],
             [
              0.3333333333333333,
              "#9c179e"
             ],
             [
              0.4444444444444444,
              "#bd3786"
             ],
             [
              0.5555555555555556,
              "#d8576b"
             ],
             [
              0.6666666666666666,
              "#ed7953"
             ],
             [
              0.7777777777777778,
              "#fb9f3a"
             ],
             [
              0.8888888888888888,
              "#fdca26"
             ],
             [
              1,
              "#f0f921"
             ]
            ],
            "type": "histogram2dcontour"
           }
          ],
          "mesh3d": [
           {
            "colorbar": {
             "outlinewidth": 0,
             "ticks": ""
            },
            "type": "mesh3d"
           }
          ],
          "parcoords": [
           {
            "line": {
             "colorbar": {
              "outlinewidth": 0,
              "ticks": ""
             }
            },
            "type": "parcoords"
           }
          ],
          "pie": [
           {
            "automargin": true,
            "type": "pie"
           }
          ],
          "scatter": [
           {
            "fillpattern": {
             "fillmode": "overlay",
             "size": 10,
             "solidity": 0.2
            },
            "type": "scatter"
           }
          ],
          "scatter3d": [
           {
            "line": {
             "colorbar": {
              "outlinewidth": 0,
              "ticks": ""
             }
            },
            "marker": {
             "colorbar": {
              "outlinewidth": 0,
              "ticks": ""
             }
            },
            "type": "scatter3d"
           }
          ],
          "scattercarpet": [
           {
            "marker": {
             "colorbar": {
              "outlinewidth": 0,
              "ticks": ""
             }
            },
            "type": "scattercarpet"
           }
          ],
          "scattergeo": [
           {
            "marker": {
             "colorbar": {
              "outlinewidth": 0,
              "ticks": ""
             }
            },
            "type": "scattergeo"
           }
          ],
          "scattergl": [
           {
            "marker": {
             "colorbar": {
              "outlinewidth": 0,
              "ticks": ""
             }
            },
            "type": "scattergl"
           }
          ],
          "scattermapbox": [
           {
            "marker": {
             "colorbar": {
              "outlinewidth": 0,
              "ticks": ""
             }
            },
            "type": "scattermapbox"
           }
          ],
          "scatterpolar": [
           {
            "marker": {
             "colorbar": {
              "outlinewidth": 0,
              "ticks": ""
             }
            },
            "type": "scatterpolar"
           }
          ],
          "scatterpolargl": [
           {
            "marker": {
             "colorbar": {
              "outlinewidth": 0,
              "ticks": ""
             }
            },
            "type": "scatterpolargl"
           }
          ],
          "scatterternary": [
           {
            "marker": {
             "colorbar": {
              "outlinewidth": 0,
              "ticks": ""
             }
            },
            "type": "scatterternary"
           }
          ],
          "surface": [
           {
            "colorbar": {
             "outlinewidth": 0,
             "ticks": ""
            },
            "colorscale": [
             [
              0,
              "#0d0887"
             ],
             [
              0.1111111111111111,
              "#46039f"
             ],
             [
              0.2222222222222222,
              "#7201a8"
             ],
             [
              0.3333333333333333,
              "#9c179e"
             ],
             [
              0.4444444444444444,
              "#bd3786"
             ],
             [
              0.5555555555555556,
              "#d8576b"
             ],
             [
              0.6666666666666666,
              "#ed7953"
             ],
             [
              0.7777777777777778,
              "#fb9f3a"
             ],
             [
              0.8888888888888888,
              "#fdca26"
             ],
             [
              1,
              "#f0f921"
             ]
            ],
            "type": "surface"
           }
          ],
          "table": [
           {
            "cells": {
             "fill": {
              "color": "#EBF0F8"
             },
             "line": {
              "color": "white"
             }
            },
            "header": {
             "fill": {
              "color": "#C8D4E3"
             },
             "line": {
              "color": "white"
             }
            },
            "type": "table"
           }
          ]
         },
         "layout": {
          "annotationdefaults": {
           "arrowcolor": "#2a3f5f",
           "arrowhead": 0,
           "arrowwidth": 1
          },
          "autotypenumbers": "strict",
          "coloraxis": {
           "colorbar": {
            "outlinewidth": 0,
            "ticks": ""
           }
          },
          "colorscale": {
           "diverging": [
            [
             0,
             "#8e0152"
            ],
            [
             0.1,
             "#c51b7d"
            ],
            [
             0.2,
             "#de77ae"
            ],
            [
             0.3,
             "#f1b6da"
            ],
            [
             0.4,
             "#fde0ef"
            ],
            [
             0.5,
             "#f7f7f7"
            ],
            [
             0.6,
             "#e6f5d0"
            ],
            [
             0.7,
             "#b8e186"
            ],
            [
             0.8,
             "#7fbc41"
            ],
            [
             0.9,
             "#4d9221"
            ],
            [
             1,
             "#276419"
            ]
           ],
           "sequential": [
            [
             0,
             "#0d0887"
            ],
            [
             0.1111111111111111,
             "#46039f"
            ],
            [
             0.2222222222222222,
             "#7201a8"
            ],
            [
             0.3333333333333333,
             "#9c179e"
            ],
            [
             0.4444444444444444,
             "#bd3786"
            ],
            [
             0.5555555555555556,
             "#d8576b"
            ],
            [
             0.6666666666666666,
             "#ed7953"
            ],
            [
             0.7777777777777778,
             "#fb9f3a"
            ],
            [
             0.8888888888888888,
             "#fdca26"
            ],
            [
             1,
             "#f0f921"
            ]
           ],
           "sequentialminus": [
            [
             0,
             "#0d0887"
            ],
            [
             0.1111111111111111,
             "#46039f"
            ],
            [
             0.2222222222222222,
             "#7201a8"
            ],
            [
             0.3333333333333333,
             "#9c179e"
            ],
            [
             0.4444444444444444,
             "#bd3786"
            ],
            [
             0.5555555555555556,
             "#d8576b"
            ],
            [
             0.6666666666666666,
             "#ed7953"
            ],
            [
             0.7777777777777778,
             "#fb9f3a"
            ],
            [
             0.8888888888888888,
             "#fdca26"
            ],
            [
             1,
             "#f0f921"
            ]
           ]
          },
          "colorway": [
           "#636efa",
           "#EF553B",
           "#00cc96",
           "#ab63fa",
           "#FFA15A",
           "#19d3f3",
           "#FF6692",
           "#B6E880",
           "#FF97FF",
           "#FECB52"
          ],
          "font": {
           "color": "#2a3f5f"
          },
          "geo": {
           "bgcolor": "white",
           "lakecolor": "white",
           "landcolor": "#E5ECF6",
           "showlakes": true,
           "showland": true,
           "subunitcolor": "white"
          },
          "hoverlabel": {
           "align": "left"
          },
          "hovermode": "closest",
          "mapbox": {
           "style": "light"
          },
          "paper_bgcolor": "white",
          "plot_bgcolor": "#E5ECF6",
          "polar": {
           "angularaxis": {
            "gridcolor": "white",
            "linecolor": "white",
            "ticks": ""
           },
           "bgcolor": "#E5ECF6",
           "radialaxis": {
            "gridcolor": "white",
            "linecolor": "white",
            "ticks": ""
           }
          },
          "scene": {
           "xaxis": {
            "backgroundcolor": "#E5ECF6",
            "gridcolor": "white",
            "gridwidth": 2,
            "linecolor": "white",
            "showbackground": true,
            "ticks": "",
            "zerolinecolor": "white"
           },
           "yaxis": {
            "backgroundcolor": "#E5ECF6",
            "gridcolor": "white",
            "gridwidth": 2,
            "linecolor": "white",
            "showbackground": true,
            "ticks": "",
            "zerolinecolor": "white"
           },
           "zaxis": {
            "backgroundcolor": "#E5ECF6",
            "gridcolor": "white",
            "gridwidth": 2,
            "linecolor": "white",
            "showbackground": true,
            "ticks": "",
            "zerolinecolor": "white"
           }
          },
          "shapedefaults": {
           "line": {
            "color": "#2a3f5f"
           }
          },
          "ternary": {
           "aaxis": {
            "gridcolor": "white",
            "linecolor": "white",
            "ticks": ""
           },
           "baxis": {
            "gridcolor": "white",
            "linecolor": "white",
            "ticks": ""
           },
           "bgcolor": "#E5ECF6",
           "caxis": {
            "gridcolor": "white",
            "linecolor": "white",
            "ticks": ""
           }
          },
          "title": {
           "x": 0.05
          },
          "xaxis": {
           "automargin": true,
           "gridcolor": "white",
           "linecolor": "white",
           "ticks": "",
           "title": {
            "standoff": 15
           },
           "zerolinecolor": "white",
           "zerolinewidth": 2
          },
          "yaxis": {
           "automargin": true,
           "gridcolor": "white",
           "linecolor": "white",
           "ticks": "",
           "title": {
            "standoff": 15
           },
           "zerolinecolor": "white",
           "zerolinewidth": 2
          }
         }
        }
       }
      }
     },
     "metadata": {},
     "output_type": "display_data"
    }
   ],
   "source": [
    "grid = np.linspace(0, 1, adams(gr_x,gr_y)[0][0][2])\n",
    "\n",
    "new = []\n",
    "new1 = []\n",
    "answ = []\n",
    "answ1 = []\n",
    "for i in range(len(adams(gr_x,gr_y)[0])): \n",
    "    new.append(adams(gr_x,gr_y)[0][i][1])\n",
    "    new1.append(adams(gr_x,gr_y)[0][i][0])\n",
    "    answ.append(gr_x(grid[i]))\n",
    "    answ1.append(gr_y(grid[i]))\n",
    "fig = go.Figure()\n",
    "fig.add_trace(go.Scatter(x=grid, y=answ1))\n",
    "fig.add_trace(go.Scatter(x=grid, y=answ))\n",
    "fig.add_trace(go.Scatter(x=grid, y=new))\n",
    "fig.add_trace(go.Scatter(x=grid, y=new1))\n",
    "fig.show()"
   ]
  }
 ],
 "metadata": {
  "interpreter": {
   "hash": "7758e92e9a61d7a3490898707f7eeb937c85e9d1e8d4e877cc6c187218f226d5"
  },
  "kernelspec": {
   "display_name": "Python 3.9.7 ('base')",
   "language": "python",
   "name": "python3"
  },
  "language_info": {
   "codemirror_mode": {
    "name": "ipython",
    "version": 3
   },
   "file_extension": ".py",
   "mimetype": "text/x-python",
   "name": "python",
   "nbconvert_exporter": "python",
   "pygments_lexer": "ipython3",
   "version": "3.9.7"
  }
 },
 "nbformat": 4,
 "nbformat_minor": 5
}
