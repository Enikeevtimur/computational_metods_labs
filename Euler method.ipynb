{
 "cells": [
  {
   "cell_type": "markdown",
   "id": "8a33847c",
   "metadata": {},
   "source": [
    "Метод Эйлера"
   ]
  },
  {
   "cell_type": "code",
   "execution_count": 74,
   "id": "be72e2ea",
   "metadata": {},
   "outputs": [],
   "source": [
    "import numpy as np \n",
    "import matplotlib.pyplot as plt\n",
    "import pandas as pd \n",
    "import math"
   ]
  },
  {
   "cell_type": "markdown",
   "id": "63c6df87",
   "metadata": {},
   "source": [
    "$y'  = 4x^{3} + 2x + 6x , y(1) = 2, x_{0} = 1$  $Ответ: y = x^{4}-x^{2}+2x^{3}$ "
   ]
  },
  {
   "cell_type": "code",
   "execution_count": 98,
   "id": "568038d8",
   "metadata": {},
   "outputs": [],
   "source": [
    "df = pd.DataFrame({'length':[], 'epsilon': [], 'p value': []})\n",
    "df1 = pd.DataFrame({'length':[], 'epsilon': [], 'p value': []})"
   ]
  },
  {
   "cell_type": "code",
   "execution_count": 73,
   "id": "cd89cc18",
   "metadata": {},
   "outputs": [
    {
     "data": {
      "text/html": [
       "<div>\n",
       "<style scoped>\n",
       "    .dataframe tbody tr th:only-of-type {\n",
       "        vertical-align: middle;\n",
       "    }\n",
       "\n",
       "    .dataframe tbody tr th {\n",
       "        vertical-align: top;\n",
       "    }\n",
       "\n",
       "    .dataframe thead th {\n",
       "        text-align: right;\n",
       "    }\n",
       "</style>\n",
       "<table border=\"1\" class=\"dataframe\">\n",
       "  <thead>\n",
       "    <tr style=\"text-align: right;\">\n",
       "      <th></th>\n",
       "      <th>length</th>\n",
       "      <th>epsilon 1</th>\n",
       "      <th>p value 1</th>\n",
       "    </tr>\n",
       "  </thead>\n",
       "  <tbody>\n",
       "  </tbody>\n",
       "</table>\n",
       "</div>"
      ],
      "text/plain": [
       "Empty DataFrame\n",
       "Columns: [length, epsilon 1, p value 1]\n",
       "Index: []"
      ]
     },
     "execution_count": 73,
     "metadata": {},
     "output_type": "execute_result"
    }
   ],
   "source": [
    "df"
   ]
  },
  {
   "cell_type": "code",
   "execution_count": 60,
   "id": "a954f4d6",
   "metadata": {},
   "outputs": [],
   "source": [
    "def func(x):\n",
    "    return x**4-x**2+2*x**3"
   ]
  },
  {
   "cell_type": "code",
   "execution_count": 58,
   "id": "a9a2ca8b",
   "metadata": {},
   "outputs": [],
   "source": [
    "def d_func(x,y):\n",
    "    return 4*x**3 - 2*x + 6*x**2"
   ]
  },
  {
   "cell_type": "code",
   "execution_count": 52,
   "id": "7ca324ae",
   "metadata": {},
   "outputs": [
    {
     "data": {
      "image/png": "[encoded data removed]",
      "text/plain": [
       "<Figure size 432x288 with 1 Axes>"
      ]
     },
     "metadata": {
      "needs_background": "light"
     },
     "output_type": "display_data"
    }
   ],
   "source": [
    "a = np.linspace(1,2,10**5)\n",
    "plt.plot(a,func(a))\n",
    "plt.show()"
   ]
  },
  {
   "cell_type": "code",
   "execution_count": 100,
   "id": "f9ef415c",
   "metadata": {},
   "outputs": [
    {
     "data": {
      "text/html": [
       "<div>\n",
       "<style scoped>\n",
       "    .dataframe tbody tr th:only-of-type {\n",
       "        vertical-align: middle;\n",
       "    }\n",
       "\n",
       "    .dataframe tbody tr th {\n",
       "        vertical-align: top;\n",
       "    }\n",
       "\n",
       "    .dataframe thead th {\n",
       "        text-align: right;\n",
       "    }\n",
       "</style>\n",
       "<table border=\"1\" class=\"dataframe\">\n",
       "  <thead>\n",
       "    <tr style=\"text-align: right;\">\n",
       "      <th></th>\n",
       "      <th>length</th>\n",
       "      <th>epsilon</th>\n",
       "      <th>p value</th>\n",
       "    </tr>\n",
       "  </thead>\n",
       "  <tbody>\n",
       "    <tr>\n",
       "      <th>0</th>\n",
       "      <td>4.0</td>\n",
       "      <td>5.250000</td>\n",
       "      <td>0.000000</td>\n",
       "    </tr>\n",
       "    <tr>\n",
       "      <th>1</th>\n",
       "      <td>8.0</td>\n",
       "      <td>2.687500</td>\n",
       "      <td>-30.426237</td>\n",
       "    </tr>\n",
       "    <tr>\n",
       "      <th>2</th>\n",
       "      <td>16.0</td>\n",
       "      <td>1.359375</td>\n",
       "      <td>0.983321</td>\n",
       "    </tr>\n",
       "    <tr>\n",
       "      <th>3</th>\n",
       "      <td>32.0</td>\n",
       "      <td>0.683594</td>\n",
       "      <td>0.991732</td>\n",
       "    </tr>\n",
       "    <tr>\n",
       "      <th>4</th>\n",
       "      <td>64.0</td>\n",
       "      <td>0.342773</td>\n",
       "      <td>0.995884</td>\n",
       "    </tr>\n",
       "    <tr>\n",
       "      <th>5</th>\n",
       "      <td>128.0</td>\n",
       "      <td>0.171631</td>\n",
       "      <td>0.997946</td>\n",
       "    </tr>\n",
       "    <tr>\n",
       "      <th>6</th>\n",
       "      <td>256.0</td>\n",
       "      <td>0.085876</td>\n",
       "      <td>0.998974</td>\n",
       "    </tr>\n",
       "    <tr>\n",
       "      <th>7</th>\n",
       "      <td>512.0</td>\n",
       "      <td>0.042953</td>\n",
       "      <td>0.999487</td>\n",
       "    </tr>\n",
       "    <tr>\n",
       "      <th>8</th>\n",
       "      <td>1024.0</td>\n",
       "      <td>0.021481</td>\n",
       "      <td>0.999744</td>\n",
       "    </tr>\n",
       "    <tr>\n",
       "      <th>9</th>\n",
       "      <td>2048.0</td>\n",
       "      <td>0.010741</td>\n",
       "      <td>0.999872</td>\n",
       "    </tr>\n",
       "    <tr>\n",
       "      <th>10</th>\n",
       "      <td>4096.0</td>\n",
       "      <td>0.005371</td>\n",
       "      <td>0.999936</td>\n",
       "    </tr>\n",
       "    <tr>\n",
       "      <th>11</th>\n",
       "      <td>8192.0</td>\n",
       "      <td>0.002685</td>\n",
       "      <td>0.999968</td>\n",
       "    </tr>\n",
       "    <tr>\n",
       "      <th>12</th>\n",
       "      <td>16384.0</td>\n",
       "      <td>0.001343</td>\n",
       "      <td>0.999984</td>\n",
       "    </tr>\n",
       "    <tr>\n",
       "      <th>13</th>\n",
       "      <td>32768.0</td>\n",
       "      <td>0.000671</td>\n",
       "      <td>0.999992</td>\n",
       "    </tr>\n",
       "  </tbody>\n",
       "</table>\n",
       "</div>"
      ],
      "text/plain": [
       "     length   epsilon    p value\n",
       "0       4.0  5.250000   0.000000\n",
       "1       8.0  2.687500 -30.426237\n",
       "2      16.0  1.359375   0.983321\n",
       "3      32.0  0.683594   0.991732\n",
       "4      64.0  0.342773   0.995884\n",
       "5     128.0  0.171631   0.997946\n",
       "6     256.0  0.085876   0.998974\n",
       "7     512.0  0.042953   0.999487\n",
       "8    1024.0  0.021481   0.999744\n",
       "9    2048.0  0.010741   0.999872\n",
       "10   4096.0  0.005371   0.999936\n",
       "11   8192.0  0.002685   0.999968\n",
       "12  16384.0  0.001343   0.999984\n",
       "13  32768.0  0.000671   0.999992"
      ]
     },
     "execution_count": 100,
     "metadata": {},
     "output_type": "execute_result"
    }
   ],
   "source": [
    "i = 2\n",
    "while(i < 2**15):\n",
    "    i *= 2\n",
    "    arr_x = np.linspace(1,2,i+1)\n",
    "    y = 2\n",
    "    ys = [2]\n",
    "    for k in range(1,i+1):\n",
    "        y = y +(arr_x[k]-arr_x[k-1])*d_func(arr_x[k-1],y)\n",
    "        ys.append(y)\n",
    "    if i == 4:\n",
    "        df.loc[len(df.index)] = [i,abs(y - func(2)),0]\n",
    "    else:\n",
    "        df.loc[len(df.index)] = [i,abs(y - func(2)),-math.log2(abs(y - func(2))/pr)]\n",
    "        pr = abs(y - func(2))\n",
    "df"
   ]
  },
  {
   "cell_type": "code",
   "execution_count": 66,
   "id": "fb048716",
   "metadata": {
    "scrolled": true
   },
   "outputs": [
    {
     "data": {
      "image/png": "[encoded data removed]",
      "text/plain": [
       "<Figure size 432x288 with 1 Axes>"
      ]
     },
     "metadata": {
      "needs_background": "light"
     },
     "output_type": "display_data"
    }
   ],
   "source": [
    "i = 50\n",
    "arr_x = np.linspace(1,2,i+1)\n",
    "y = 2\n",
    "ys = [2]\n",
    "for k in range(1,i+1):\n",
    "    \n",
    "    y = y +(arr_x[k]-arr_x[k-1])*d_func(arr_x[k-1],y)\n",
    "    ys.append(y)\n",
    "plt.plot(a,func(a),arr_x,ys)\n",
    "plt.show()"
   ]
  },
  {
   "cell_type": "markdown",
   "id": "660a9c8b",
   "metadata": {},
   "source": [
    "Модифицированный метод Эйлера"
   ]
  },
  {
   "cell_type": "code",
   "execution_count": 99,
   "id": "030ec9e8",
   "metadata": {},
   "outputs": [
    {
     "data": {
      "text/html": [
       "<div>\n",
       "<style scoped>\n",
       "    .dataframe tbody tr th:only-of-type {\n",
       "        vertical-align: middle;\n",
       "    }\n",
       "\n",
       "    .dataframe tbody tr th {\n",
       "        vertical-align: top;\n",
       "    }\n",
       "\n",
       "    .dataframe thead th {\n",
       "        text-align: right;\n",
       "    }\n",
       "</style>\n",
       "<table border=\"1\" class=\"dataframe\">\n",
       "  <thead>\n",
       "    <tr style=\"text-align: right;\">\n",
       "      <th></th>\n",
       "      <th>length</th>\n",
       "      <th>epsilon</th>\n",
       "      <th>p value</th>\n",
       "    </tr>\n",
       "  </thead>\n",
       "  <tbody>\n",
       "    <tr>\n",
       "      <th>0</th>\n",
       "      <td>4.0</td>\n",
       "      <td>1.250000e-01</td>\n",
       "      <td>0.000000</td>\n",
       "    </tr>\n",
       "    <tr>\n",
       "      <th>1</th>\n",
       "      <td>8.0</td>\n",
       "      <td>3.125000e-02</td>\n",
       "      <td>-23.999972</td>\n",
       "    </tr>\n",
       "    <tr>\n",
       "      <th>2</th>\n",
       "      <td>16.0</td>\n",
       "      <td>7.812500e-03</td>\n",
       "      <td>2.000000</td>\n",
       "    </tr>\n",
       "    <tr>\n",
       "      <th>3</th>\n",
       "      <td>32.0</td>\n",
       "      <td>1.953125e-03</td>\n",
       "      <td>2.000000</td>\n",
       "    </tr>\n",
       "    <tr>\n",
       "      <th>4</th>\n",
       "      <td>64.0</td>\n",
       "      <td>4.882812e-04</td>\n",
       "      <td>2.000000</td>\n",
       "    </tr>\n",
       "    <tr>\n",
       "      <th>5</th>\n",
       "      <td>128.0</td>\n",
       "      <td>1.220703e-04</td>\n",
       "      <td>2.000000</td>\n",
       "    </tr>\n",
       "    <tr>\n",
       "      <th>6</th>\n",
       "      <td>256.0</td>\n",
       "      <td>3.051758e-05</td>\n",
       "      <td>2.000000</td>\n",
       "    </tr>\n",
       "    <tr>\n",
       "      <th>7</th>\n",
       "      <td>512.0</td>\n",
       "      <td>7.629395e-06</td>\n",
       "      <td>2.000000</td>\n",
       "    </tr>\n",
       "    <tr>\n",
       "      <th>8</th>\n",
       "      <td>1024.0</td>\n",
       "      <td>1.907349e-06</td>\n",
       "      <td>2.000000</td>\n",
       "    </tr>\n",
       "    <tr>\n",
       "      <th>9</th>\n",
       "      <td>2048.0</td>\n",
       "      <td>4.768372e-07</td>\n",
       "      <td>2.000000</td>\n",
       "    </tr>\n",
       "    <tr>\n",
       "      <th>10</th>\n",
       "      <td>4096.0</td>\n",
       "      <td>1.192093e-07</td>\n",
       "      <td>2.000000</td>\n",
       "    </tr>\n",
       "    <tr>\n",
       "      <th>11</th>\n",
       "      <td>8192.0</td>\n",
       "      <td>2.980232e-08</td>\n",
       "      <td>2.000000</td>\n",
       "    </tr>\n",
       "    <tr>\n",
       "      <th>12</th>\n",
       "      <td>16384.0</td>\n",
       "      <td>7.450581e-09</td>\n",
       "      <td>2.000000</td>\n",
       "    </tr>\n",
       "    <tr>\n",
       "      <th>13</th>\n",
       "      <td>32768.0</td>\n",
       "      <td>1.862681e-09</td>\n",
       "      <td>1.999972</td>\n",
       "    </tr>\n",
       "  </tbody>\n",
       "</table>\n",
       "</div>"
      ],
      "text/plain": [
       "     length       epsilon    p value\n",
       "0       4.0  1.250000e-01   0.000000\n",
       "1       8.0  3.125000e-02 -23.999972\n",
       "2      16.0  7.812500e-03   2.000000\n",
       "3      32.0  1.953125e-03   2.000000\n",
       "4      64.0  4.882812e-04   2.000000\n",
       "5     128.0  1.220703e-04   2.000000\n",
       "6     256.0  3.051758e-05   2.000000\n",
       "7     512.0  7.629395e-06   2.000000\n",
       "8    1024.0  1.907349e-06   2.000000\n",
       "9    2048.0  4.768372e-07   2.000000\n",
       "10   4096.0  1.192093e-07   2.000000\n",
       "11   8192.0  2.980232e-08   2.000000\n",
       "12  16384.0  7.450581e-09   2.000000\n",
       "13  32768.0  1.862681e-09   1.999972"
      ]
     },
     "execution_count": 99,
     "metadata": {},
     "output_type": "execute_result"
    }
   ],
   "source": [
    "i = 2\n",
    "while(i < 2**15):\n",
    "    i *= 2\n",
    "    arr_x = np.linspace(1,2,i+1)\n",
    "    y = 2\n",
    "    ys = [2]\n",
    "    for k in range(1,i+1):\n",
    "        y = y + (arr_x[k]-arr_x[k-1])*d_func(arr_x[k-1] + (arr_x[k]-arr_x[k-1])/2,y + d_func(arr_x[k-1],y)*(arr_x[k]-arr_x[k-1])/2)\n",
    "        ys.append(y)\n",
    "    if i == 4:\n",
    "        df1.loc[len(df1.index)] = [i,abs(y - func(2)),0]\n",
    "    else:\n",
    "        df1.loc[len(df1.index)] = [i,abs(y - func(2)),-np.log2(abs(y - func(2))/pr)]\n",
    "        pr = abs(y - func(2))\n",
    "df1"
   ]
  },
  {
   "cell_type": "code",
   "execution_count": null,
   "id": "c580662e",
   "metadata": {},
   "outputs": [],
   "source": [
    "i = 2\n",
    "while(i < 2**15):\n",
    "    i *= 2\n",
    "    arr_x = np.linspace(1,2,i+1)\n",
    "    y = 2\n",
    "    ys = [2]\n",
    "    for k in range(1,i+1):\n",
    "        y = y +(arr_x[k]-arr_x[k-1])*d_func(arr_x[k-1],y)\n",
    "        ys.append(y)\n",
    "    if i == 4:\n",
    "        df.loc[len(df.index)] = [i,abs(y - func(2)),0]\n",
    "    else:\n",
    "        df.loc[len(df.index)] = [i,abs(y - func(2)),-math.log2(abs(y - func(2))/pr)]\n",
    "        pr = abs(y - func(2))\n",
    "df"
   ]
  }
 ],
 "metadata": {
  "kernelspec": {
   "display_name": "Python 3 (ipykernel)",
   "language": "python",
   "name": "python3"
  },
  "language_info": {
   "codemirror_mode": {
    "name": "ipython",
    "version": 3
   },
   "file_extension": ".py",
   "mimetype": "text/x-python",
   "name": "python",
   "nbconvert_exporter": "python",
   "pygments_lexer": "ipython3",
   "version": "3.9.7"
  }
 },
 "nbformat": 4,
 "nbformat_minor": 5
}
